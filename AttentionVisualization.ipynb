{
 "cells": [
  {
   "cell_type": "code",
   "execution_count": 1,
   "metadata": {
    "collapsed": true
   },
   "outputs": [],
   "source": [
    "import os\n",
    "import sys\n",
    "import cv2\n",
    "import numpy as np\n",
    "from tqdm import tqdm\n",
    "import matplotlib.pyplot as plt\n",
    "\n",
    "import torch\n",
    "import torchvision\n",
    "import torch.nn as nn\n",
    "import torch.nn.functional as F\n",
    "from torchvision import transforms as pth_transforms\n",
    "\n",
    "from einops import rearrange\n",
    "import segmentation_models_pytorch as smp\n",
    "from timm.models.layers import drop_path, trunc_normal_"
   ]
  },
  {
   "cell_type": "code",
   "execution_count": 2,
   "outputs": [],
   "source": [
    "class overlap_patch_embed(nn.Module):\n",
    "    def __init__(self, patch_size, stride, in_chans, embed_dim):\n",
    "        super().__init__()\n",
    "        self.patch_size = patch_size\n",
    "        self.proj = nn.Conv2d(in_chans, embed_dim, kernel_size=patch_size, stride=stride,\n",
    "                              padding=(patch_size // 2, patch_size // 2))\n",
    "        self.norm = nn.LayerNorm(embed_dim)\n",
    "\n",
    "    def forward(self, x):\n",
    "        x = self.proj(x)\n",
    "        _, _, h, w = x.shape\n",
    "        x = rearrange(x, 'b c h w -> b (h w) c')\n",
    "        x = self.norm(x)\n",
    "        return x, h, w"
   ],
   "metadata": {
    "collapsed": false
   }
  },
  {
   "cell_type": "code",
   "execution_count": 3,
   "outputs": [],
   "source": [
    "class mix_feedforward(nn.Module):\n",
    "    def __init__(self, in_features, out_features, hidden_features, dropout_p = 0.0):\n",
    "        super().__init__()\n",
    "        self.fc1 = nn.Linear(in_features, hidden_features)\n",
    "        self.fc2 = nn.Linear(hidden_features, out_features)\n",
    "\n",
    "        # Depth-wise separable convolution\n",
    "        self.conv = nn.Conv2d(hidden_features, hidden_features, (3, 3), padding=(1, 1),\n",
    "                              bias=True, groups=hidden_features)\n",
    "        self.dropout_p = dropout_p\n",
    "\n",
    "    def forward(self, x, h, w):\n",
    "        x = self.fc1(x)\n",
    "        x = rearrange(x, 'b (h w) c -> b c h w', h=h, w=w)\n",
    "        x = self.conv(x)\n",
    "        x = rearrange(x, 'b c h w -> b (h w) c')\n",
    "        x = F.gelu(x)\n",
    "        x = F.dropout(x, p=self.dropout_p, training=self.training)\n",
    "        x = self.fc2(x)\n",
    "        x = F.dropout(x, p=self.dropout_p, training=self.training)\n",
    "        return x"
   ],
   "metadata": {
    "collapsed": false
   }
  },
  {
   "cell_type": "code",
   "execution_count": 4,
   "outputs": [],
   "source": [
    "class efficient_self_attention(nn.Module):\n",
    "\n",
    "    def __init__(self, attn_dim, num_heads, dropout, sr_ratio):\n",
    "        super().__init__()\n",
    "        assert attn_dim % num_heads == 0, \"attn_dim must be divisible by num_heads\"\n",
    "        self.attn_dim = attn_dim\n",
    "        self.num_heads = num_heads\n",
    "        self.dropout = dropout\n",
    "        self.sr_ratio = sr_ratio  # spatial reduction ratio\n",
    "\n",
    "        if self.sr_ratio > 1:\n",
    "            self.sr = nn.Conv2d(in_channels=self.attn_dim, out_channels=self.attn_dim,\n",
    "                                     kernel_size=self.sr_ratio, stride=self.sr_ratio)\n",
    "            self.norm = nn.LayerNorm(self.attn_dim)\n",
    "\n",
    "        # Query, Key, Value projections for all the heads\n",
    "        self.q = nn.Linear(self.attn_dim, self.attn_dim, bias=True)\n",
    "        self.kv = nn.Linear(self.attn_dim, 2 * self.attn_dim, bias=True)\n",
    "        # Scaled by the root of head dimension\n",
    "        self.scale = (self.attn_dim // self.num_heads) ** -0.5  # like doing 1 / sqrt()\n",
    "        # Projecting concatenated output back to attn_dim\n",
    "        self.proj = nn.Linear(self.attn_dim, self.attn_dim)\n",
    "\n",
    "    def forward(self, x, h, w):\n",
    "        Q = self.q(x)\n",
    "        Q = rearrange(Q, 'b hw (n c) -> b n hw c', n=self.num_heads)\n",
    "\n",
    "        if self.sr_ratio > 1:\n",
    "            x = rearrange(x, 'b (h w) c -> b c h w', h=h, w=w)\n",
    "            x = self.sr(x)\n",
    "            x = rearrange(x, 'b c h w -> b (h w) c')\n",
    "            x = self.norm(x)\n",
    "\n",
    "        K, V = self.kv(x).chunk(2, dim=-1)\n",
    "\n",
    "        K = rearrange(K, 'b hw (n c) -> b n hw c', n=self.num_heads)\n",
    "        V = rearrange(V, 'b hw (n c) -> b n hw c', n=self.num_heads)\n",
    "\n",
    "        # Q, K, V are of shape (batch_size, num_heads, seq_len, head_dim)\n",
    "        attn = torch.einsum('b n i c, b n j c -> b n i j', Q, K) * self.scale\n",
    "        attn = attn.softmax(dim=-1)\n",
    "\n",
    "        x = torch.einsum('b n i j, b n j c -> b n i c', attn, V)\n",
    "\n",
    "        x = rearrange(x, 'b n hw c -> b hw (n c)')\n",
    "\n",
    "        x = self.proj(x)\n",
    "        x = F.dropout(x, p=self.dropout, training=self.training)\n",
    "\n",
    "        attn_output = {'attn': attn, 'query': Q, 'key': K, 'value': V}\n",
    "        return x, attn_output"
   ],
   "metadata": {
    "collapsed": false
   }
  },
  {
   "cell_type": "code",
   "execution_count": 5,
   "outputs": [],
   "source": [
    "class transformer_block(nn.Module):\n",
    "    def __init__(self, dim, num_heads, dropout, drop_path, sr_ratio):\n",
    "        super().__init__()\n",
    "        # One transformer block is defined as :\n",
    "        # Norm -> self-attention -> Norm -> FeedForward\n",
    "        # skip-connections are added after attention and FF layers\n",
    "        self.dim = dim\n",
    "        self.num_heads = num_heads\n",
    "        self.dropout = dropout\n",
    "        self.drop_path = drop_path\n",
    "        self.sr_ratio = sr_ratio\n",
    "        self.attn = efficient_self_attention(attn_dim=self.dim, num_heads=self.num_heads,\n",
    "                                             dropout=self.dropout, sr_ratio=self.sr_ratio)\n",
    "        self.ffn = mix_feedforward(in_features=self.dim, out_features=self.dim,\n",
    "                                   dropout_p=self.dropout, hidden_features=self.dim * 4)\n",
    "        self.norm1 = nn.LayerNorm(self.dim, eps=1e-6)\n",
    "        self.norm2 = nn.LayerNorm(self.dim, eps=1e-6)\n",
    "\n",
    "\n",
    "    def forward(self, x, h, w):\n",
    "        # Norm -> self-attention\n",
    "        skip = x\n",
    "        x = self.norm1(x)\n",
    "        x, attn_output = self.attn(x, h, w)\n",
    "        x = drop_path(x, drop_prob=self.drop_path, training=self.training)\n",
    "        x = x + skip\n",
    "\n",
    "        # Norm -> FeedForward\n",
    "        skip = x\n",
    "        x = self.norm2(x)\n",
    "        x = self.ffn(x, h, w)\n",
    "        x = drop_path(x, drop_prob=self.drop_path, training=self.training)\n",
    "        x = x + skip\n",
    "        return x, attn_output"
   ],
   "metadata": {
    "collapsed": false
   }
  },
  {
   "cell_type": "code",
   "execution_count": 6,
   "outputs": [],
   "source": [
    "class mix_transformer_stage(nn.Module):\n",
    "    def __init__(self, patch_embed, blocks, norm):\n",
    "        super().__init__()\n",
    "        self.patch_embed = patch_embed\n",
    "        self.blocks = nn.ModuleList(blocks)\n",
    "        self.norm = norm\n",
    "\n",
    "    def forward(self, x):\n",
    "        # patch embedding and store required data\n",
    "        stage_output  = {}\n",
    "        stage_output['patch_embed_input'] = x\n",
    "        x, h, w = self.patch_embed(x)\n",
    "        stage_output['patch_embed_h'] = h\n",
    "        stage_output['patch_embed_w'] = w\n",
    "        stage_output['patch_embed_output'] = x\n",
    "\n",
    "        for block in self.blocks:\n",
    "            x, attn_output = block(x, h, w)\n",
    "\n",
    "        x = self.norm(x)\n",
    "        x = rearrange(x, 'b (h w) c -> b c h w', h=h, w=w)\n",
    "\n",
    "        # store last attention block data\n",
    "        # in stages' output data\n",
    "        for k,v in attn_output.items():\n",
    "            stage_output[k] = v\n",
    "        del attn_output\n",
    "        return x, stage_output"
   ],
   "metadata": {
    "collapsed": false
   }
  },
  {
   "cell_type": "code",
   "execution_count": 7,
   "outputs": [],
   "source": [
    "class mix_transformer(nn.Module):\n",
    "    def __init__(self, in_chans, embed_dims, num_heads, depths,\n",
    "                sr_ratios, dropout_p, drop_path_p):\n",
    "        super().__init__()\n",
    "        self.stages = nn.ModuleList()\n",
    "        for stage_i in range(len(depths)):\n",
    "            # Each Stage consists of following blocks :\n",
    "            # Overlap patch embedding -> mix_transformer_block -> norm\n",
    "\n",
    "            blocks = []\n",
    "            for i in range(depths[stage_i]):\n",
    "                blocks.append(transformer_block(dim=embed_dims[stage_i], num_heads=num_heads[stage_i],\n",
    "                                                dropout=dropout_p,sr_ratio=sr_ratios[stage_i],\n",
    "                                                drop_path=drop_path_p * (sum(depths[:stage_i])+i) / (sum(depths)-1)\n",
    "                                                )\n",
    "                              )\n",
    "\n",
    "            if stage_i == 0:\n",
    "                patch_size = 7\n",
    "                stride = 4\n",
    "                in_chans = in_chans\n",
    "            else:\n",
    "                patch_size = 3\n",
    "                stride = 2\n",
    "                in_chans = embed_dims[stage_i-1]\n",
    "\n",
    "            patch_embed = overlap_patch_embed(in_chans=in_chans, embed_dim=embed_dims[stage_i],\n",
    "                                              patch_size=patch_size, stride=stride)\n",
    "            norm = nn.LayerNorm(embed_dims[stage_i], eps=1e-6)\n",
    "            self.stages.append(mix_transformer_stage(patch_embed, blocks, norm))\n",
    "\n",
    "\n",
    "    def forward(self, x):\n",
    "        outputs = []\n",
    "        for i,stage in enumerate(self.stages):\n",
    "            x, _ = stage(x)\n",
    "            outputs.append(x)\n",
    "        return outputs\n",
    "\n",
    "    def get_attn_outputs(self, x):\n",
    "        stage_outputs = []\n",
    "        for i,stage in enumerate(self.stages):\n",
    "            x, stage_data = stage(x)\n",
    "            stage_outputs.append(stage_data)\n",
    "        return stage_outputs"
   ],
   "metadata": {
    "collapsed": false
   }
  },
  {
   "cell_type": "code",
   "execution_count": 8,
   "outputs": [],
   "source": [
    "class segformer_head(nn.Module):\n",
    "    def __init__(self, in_channels, num_classes, embed_dim, dropout_p=0.1):\n",
    "        super().__init__()\n",
    "        self.in_channels = in_channels\n",
    "        self.num_classes = num_classes\n",
    "        self.embed_dim = embed_dim\n",
    "        self.dropout_p = dropout_p\n",
    "\n",
    "        # 1x1 conv to fuse multi-scale output from encoder\n",
    "        self.layers = nn.ModuleList([nn.Conv2d(in_channels=ch, out_channels=self.embed_dim, kernel_size=(1, 1))\n",
    "                                     for ch in reversed(self.in_channels)])\n",
    "        self.linear_fuse = nn.Conv2d(in_channels=self.embed_dim * len(self.layers),\n",
    "                                     out_channels=self.embed_dim,\n",
    "                                     kernel_size=(1, 1), bias=False)\n",
    "        self.bn = nn.BatchNorm2d(self.embed_dim, eps=1e-5)\n",
    "\n",
    "        # 1x1 conv to get num_class channel predictions\n",
    "        self.linear_pred = nn.Conv2d(self.embed_dim, self.num_classes, kernel_size=(1, 1))\n",
    "        self.init_weights()\n",
    "\n",
    "    def init_weights(self):\n",
    "        nn.init.kaiming_normal_(self.linear_fuse.weight, mode='fan_out', nonlinearity='relu')\n",
    "        nn.init.constant_(self.bn.weight, 1)\n",
    "        nn.init.constant_(self.bn.bias, 0)\n",
    "\n",
    "    def forward(self, x):\n",
    "        feature_size = x[0].shape[2:]\n",
    "\n",
    "        # project each encoder stage output to H/4, W/4\n",
    "        x = [layer(xi) for layer, xi in zip(self.layers, reversed(x))]\n",
    "        x = [F.interpolate(xi, size=feature_size, mode='bilinear', align_corners=False)\n",
    "             for xi in x[:-1]] + [x[-1]]\n",
    "\n",
    "        # concatenate project output and use 1x1\n",
    "        # convs to get num_class channel output\n",
    "        x = torch.cat(x, dim=1)\n",
    "        x = self.linear_fuse(x)\n",
    "        x = self.bn(x)\n",
    "        x = F.relu(x, inplace=True)\n",
    "        x = F.dropout(x, p=self.dropout_p, training=self.training)\n",
    "        x = self.linear_pred(x)\n",
    "\n",
    "        return x"
   ],
   "metadata": {
    "collapsed": false
   }
  },
  {
   "cell_type": "code",
   "execution_count": 9,
   "outputs": [],
   "source": [
    "class segformer_mit_b3(nn.Module):\n",
    "    def __init__(self, in_channels, num_classes):\n",
    "        super().__init__()\n",
    "        # Encoder block\n",
    "        self.backbone = mix_transformer(in_chans=in_channels, embed_dims=(64, 128, 320, 512),\n",
    "                                        num_heads=(1, 2, 5, 8), depths=(3, 4, 18, 3),\n",
    "                                        sr_ratios=(8, 4, 2, 1), dropout_p=0.0, drop_path_p=0.1)\n",
    "        # decoder block\n",
    "        self.decoder_head = segformer_head(in_channels=(64, 128, 320, 512),\n",
    "                                           num_classes=num_classes, embed_dim=256)\n",
    "\n",
    "        # init weights\n",
    "        self.apply(self._init_weights)\n",
    "\n",
    "    @staticmethod\n",
    "    def _init_weights(m):\n",
    "        if isinstance(m, nn.Linear):\n",
    "            trunc_normal_(m.weight, std=.02)\n",
    "            if isinstance(m, nn.Linear) and m.bias is not None:\n",
    "                nn.init.constant_(m.bias, 0)\n",
    "        elif isinstance(m, nn.LayerNorm):\n",
    "            nn.init.constant_(m.bias, 0)\n",
    "            nn.init.constant_(m.weight, 1.0)\n",
    "        elif isinstance(m, nn.Conv2d):\n",
    "            nn.init.kaiming_normal_(m.weight, mode=\"fan_out\", nonlinearity=\"relu\")\n",
    "\n",
    "\n",
    "    def forward(self, x):\n",
    "        image_hw = x.shape[2:]\n",
    "        x = self.backbone(x)\n",
    "        x = self.decoder_head(x)\n",
    "        x = F.interpolate(x, size=image_hw, mode='bilinear', align_corners=False)\n",
    "        return x\n",
    "\n",
    "    def get_attention_outputs(self, x):\n",
    "        return self.backbone.get_attn_outputs(x)\n",
    "\n",
    "    def get_last_selfattention(self, x):\n",
    "        outputs = self.get_attention_outputs(x)\n",
    "        return outputs[-1].get('attn', None)"
   ],
   "metadata": {
    "collapsed": false
   }
  },
  {
   "cell_type": "markdown",
   "source": [
    "## Attention Visualization"
   ],
   "metadata": {
    "collapsed": false
   }
  },
  {
   "cell_type": "code",
   "execution_count": 10,
   "outputs": [],
   "source": [
    "def preprocess_image(image_path, tf, patch_size):\n",
    "    # read image -> convert to RGB -> torch Tensor\n",
    "    rgb_img = cv2.cvtColor(cv2.imread(image_path), cv2.COLOR_BGR2RGB)\n",
    "    img = tf(rgb_img)\n",
    "    _, image_height, image_width = img.shape\n",
    "\n",
    "    # make the image divisible by the patch size\n",
    "    w, h = image_width - image_width % patch_size, image_height - image_height % patch_size\n",
    "    img = img[:, :h, :w].unsqueeze(0)\n",
    "\n",
    "    w_featmap = img.shape[-1] // patch_size\n",
    "    h_featmap = img.shape[-2] // patch_size\n",
    "    return rgb_img, img, w_featmap, h_featmap"
   ],
   "metadata": {
    "collapsed": false
   }
  },
  {
   "cell_type": "code",
   "execution_count": 11,
   "outputs": [],
   "source": [
    "targetWidth = 1024\n",
    "targetHeight = 512\n",
    "\n",
    "device = torch.device(\"cuda:0\" if torch.cuda.is_available() else \"cpu\")\n",
    "\n",
    "NUM_CLASSES = 19\n",
    "MODEL_NAME = f'segformer_mit_b3_cs_pretrain_19CLS_{targetHeight}_{targetWidth}_CE_loss'\n",
    "output_path = 'dataset'"
   ],
   "metadata": {
    "collapsed": false
   }
  },
  {
   "cell_type": "code",
   "execution_count": 12,
   "outputs": [
    {
     "data": {
      "text/plain": "<All keys matched successfully>"
     },
     "execution_count": 12,
     "metadata": {},
     "output_type": "execute_result"
    }
   ],
   "source": [
    "model = segformer_mit_b3(in_channels=3, num_classes=NUM_CLASSES).to(device)\n",
    "model.eval()\n",
    "checkpoint = torch.load(os.path.join(output_path, MODEL_NAME + '.pt'), map_location=device)\n",
    "model.load_state_dict(checkpoint)"
   ],
   "metadata": {
    "collapsed": false
   }
  },
  {
   "cell_type": "code",
   "execution_count": 13,
   "outputs": [],
   "source": [
    "def calculate_attentions(img, w_featmap, h_featmap, patch_size, mode = 'bilinear'):\n",
    "    attentions = model.get_last_selfattention(img.to(device))\n",
    "    nh = attentions.shape[1]\n",
    "\n",
    "    # we keep only the output patch attention\n",
    "    # reshape to image size\n",
    "    attentions = attentions[0, :, :, 0].reshape(nh, h_featmap, w_featmap)\n",
    "    attentions = F.interpolate(attentions.unsqueeze(0), scale_factor=patch_size, mode=mode)[0].detach().cpu().numpy()\n",
    "    return attentions\n",
    "\n",
    "\n",
    "def get_attention_masks(image_path, model, transform, patch_size, mode = 'bilinear'):\n",
    "    rgb_img, img, w_featmap, h_featmap = preprocess_image(image_path, transform, patch_size)\n",
    "    attentions = calculate_attentions(img, w_featmap, h_featmap, patch_size, mode = mode)\n",
    "    return rgb_img, attentions"
   ],
   "metadata": {
    "collapsed": false
   }
  },
  {
   "cell_type": "code",
   "execution_count": 14,
   "outputs": [],
   "source": [
    "output_dir = '.'\n",
    "patch_size = 32\n",
    "stage_scale = [4, 8, 16, 32]\n",
    "stage_heads = [1, 2, 5, 8]\n",
    "titles = []\n",
    "for stage_index, stage_nh in enumerate(stage_heads):\n",
    "    titles.extend([f\"STAGE_{stage_index+1}_HEAD_{x+1}\" for x in range(stage_nh)])\n",
    "\n",
    "transform = pth_transforms.Compose([\n",
    "    pth_transforms.ToTensor(),\n",
    "    pth_transforms.Normalize((0.485, 0.456, 0.406), (0.229, 0.224, 0.225)),\n",
    "])"
   ],
   "metadata": {
    "collapsed": false
   }
  },
  {
   "cell_type": "code",
   "execution_count": 25,
   "outputs": [
    {
     "name": "stdout",
     "output_type": "stream",
     "text": [
      "['demoVideo/stuttgart_00\\\\stuttgart_00_000000_000001.png', 'demoVideo/stuttgart_00\\\\stuttgart_00_000000_000002.png', 'demoVideo/stuttgart_00\\\\stuttgart_00_000000_000003.png', 'demoVideo/stuttgart_00\\\\stuttgart_00_000000_000004.png', 'demoVideo/stuttgart_00\\\\stuttgart_00_000000_000005.png', 'demoVideo/stuttgart_00\\\\stuttgart_00_000000_000006.png', 'demoVideo/stuttgart_00\\\\stuttgart_00_000000_000007.png', 'demoVideo/stuttgart_00\\\\stuttgart_00_000000_000008.png', 'demoVideo/stuttgart_00\\\\stuttgart_00_000000_000009.png', 'demoVideo/stuttgart_00\\\\stuttgart_00_000000_000010.png', 'demoVideo/stuttgart_00\\\\stuttgart_00_000000_000011.png', 'demoVideo/stuttgart_00\\\\stuttgart_00_000000_000012.png', 'demoVideo/stuttgart_00\\\\stuttgart_00_000000_000013.png', 'demoVideo/stuttgart_00\\\\stuttgart_00_000000_000014.png', 'demoVideo/stuttgart_00\\\\stuttgart_00_000000_000015.png', 'demoVideo/stuttgart_00\\\\stuttgart_00_000000_000016.png', 'demoVideo/stuttgart_00\\\\stuttgart_00_000000_000017.png', 'demoVideo/stuttgart_00\\\\stuttgart_00_000000_000018.png', 'demoVideo/stuttgart_00\\\\stuttgart_00_000000_000019.png', 'demoVideo/stuttgart_00\\\\stuttgart_00_000000_000020.png', 'demoVideo/stuttgart_00\\\\stuttgart_00_000000_000021.png', 'demoVideo/stuttgart_00\\\\stuttgart_00_000000_000022.png', 'demoVideo/stuttgart_00\\\\stuttgart_00_000000_000023.png', 'demoVideo/stuttgart_00\\\\stuttgart_00_000000_000024.png', 'demoVideo/stuttgart_00\\\\stuttgart_00_000000_000025.png', 'demoVideo/stuttgart_00\\\\stuttgart_00_000000_000026.png', 'demoVideo/stuttgart_00\\\\stuttgart_00_000000_000027.png', 'demoVideo/stuttgart_00\\\\stuttgart_00_000000_000028.png', 'demoVideo/stuttgart_00\\\\stuttgart_00_000000_000029.png', 'demoVideo/stuttgart_00\\\\stuttgart_00_000000_000030.png', 'demoVideo/stuttgart_00\\\\stuttgart_00_000000_000031.png', 'demoVideo/stuttgart_00\\\\stuttgart_00_000000_000032.png', 'demoVideo/stuttgart_00\\\\stuttgart_00_000000_000033.png', 'demoVideo/stuttgart_00\\\\stuttgart_00_000000_000034.png', 'demoVideo/stuttgart_00\\\\stuttgart_00_000000_000035.png', 'demoVideo/stuttgart_00\\\\stuttgart_00_000000_000036.png', 'demoVideo/stuttgart_00\\\\stuttgart_00_000000_000037.png', 'demoVideo/stuttgart_00\\\\stuttgart_00_000000_000038.png', 'demoVideo/stuttgart_00\\\\stuttgart_00_000000_000039.png', 'demoVideo/stuttgart_00\\\\stuttgart_00_000000_000040.png', 'demoVideo/stuttgart_00\\\\stuttgart_00_000000_000041.png', 'demoVideo/stuttgart_00\\\\stuttgart_00_000000_000042.png', 'demoVideo/stuttgart_00\\\\stuttgart_00_000000_000043.png', 'demoVideo/stuttgart_00\\\\stuttgart_00_000000_000044.png', 'demoVideo/stuttgart_00\\\\stuttgart_00_000000_000045.png', 'demoVideo/stuttgart_00\\\\stuttgart_00_000000_000046.png', 'demoVideo/stuttgart_00\\\\stuttgart_00_000000_000047.png', 'demoVideo/stuttgart_00\\\\stuttgart_00_000000_000048.png', 'demoVideo/stuttgart_00\\\\stuttgart_00_000000_000049.png', 'demoVideo/stuttgart_00\\\\stuttgart_00_000000_000050.png', 'demoVideo/stuttgart_00\\\\stuttgart_00_000000_000051.png', 'demoVideo/stuttgart_00\\\\stuttgart_00_000000_000052.png', 'demoVideo/stuttgart_00\\\\stuttgart_00_000000_000053.png', 'demoVideo/stuttgart_00\\\\stuttgart_00_000000_000054.png', 'demoVideo/stuttgart_00\\\\stuttgart_00_000000_000055.png', 'demoVideo/stuttgart_00\\\\stuttgart_00_000000_000056.png', 'demoVideo/stuttgart_00\\\\stuttgart_00_000000_000057.png', 'demoVideo/stuttgart_00\\\\stuttgart_00_000000_000058.png', 'demoVideo/stuttgart_00\\\\stuttgart_00_000000_000059.png', 'demoVideo/stuttgart_00\\\\stuttgart_00_000000_000060.png', 'demoVideo/stuttgart_00\\\\stuttgart_00_000000_000061.png', 'demoVideo/stuttgart_00\\\\stuttgart_00_000000_000062.png', 'demoVideo/stuttgart_00\\\\stuttgart_00_000000_000063.png', 'demoVideo/stuttgart_00\\\\stuttgart_00_000000_000064.png', 'demoVideo/stuttgart_00\\\\stuttgart_00_000000_000065.png', 'demoVideo/stuttgart_00\\\\stuttgart_00_000000_000066.png', 'demoVideo/stuttgart_00\\\\stuttgart_00_000000_000067.png', 'demoVideo/stuttgart_00\\\\stuttgart_00_000000_000068.png', 'demoVideo/stuttgart_00\\\\stuttgart_00_000000_000069.png', 'demoVideo/stuttgart_00\\\\stuttgart_00_000000_000070.png', 'demoVideo/stuttgart_00\\\\stuttgart_00_000000_000071.png', 'demoVideo/stuttgart_00\\\\stuttgart_00_000000_000072.png', 'demoVideo/stuttgart_00\\\\stuttgart_00_000000_000073.png', 'demoVideo/stuttgart_00\\\\stuttgart_00_000000_000074.png', 'demoVideo/stuttgart_00\\\\stuttgart_00_000000_000075.png', 'demoVideo/stuttgart_00\\\\stuttgart_00_000000_000076.png', 'demoVideo/stuttgart_00\\\\stuttgart_00_000000_000077.png', 'demoVideo/stuttgart_00\\\\stuttgart_00_000000_000078.png', 'demoVideo/stuttgart_00\\\\stuttgart_00_000000_000079.png', 'demoVideo/stuttgart_00\\\\stuttgart_00_000000_000080.png', 'demoVideo/stuttgart_00\\\\stuttgart_00_000000_000081.png', 'demoVideo/stuttgart_00\\\\stuttgart_00_000000_000082.png', 'demoVideo/stuttgart_00\\\\stuttgart_00_000000_000083.png', 'demoVideo/stuttgart_00\\\\stuttgart_00_000000_000084.png', 'demoVideo/stuttgart_00\\\\stuttgart_00_000000_000085.png', 'demoVideo/stuttgart_00\\\\stuttgart_00_000000_000086.png', 'demoVideo/stuttgart_00\\\\stuttgart_00_000000_000087.png', 'demoVideo/stuttgart_00\\\\stuttgart_00_000000_000088.png', 'demoVideo/stuttgart_00\\\\stuttgart_00_000000_000089.png', 'demoVideo/stuttgart_00\\\\stuttgart_00_000000_000090.png', 'demoVideo/stuttgart_00\\\\stuttgart_00_000000_000091.png', 'demoVideo/stuttgart_00\\\\stuttgart_00_000000_000092.png', 'demoVideo/stuttgart_00\\\\stuttgart_00_000000_000093.png', 'demoVideo/stuttgart_00\\\\stuttgart_00_000000_000094.png', 'demoVideo/stuttgart_00\\\\stuttgart_00_000000_000095.png', 'demoVideo/stuttgart_00\\\\stuttgart_00_000000_000096.png', 'demoVideo/stuttgart_00\\\\stuttgart_00_000000_000097.png', 'demoVideo/stuttgart_00\\\\stuttgart_00_000000_000098.png', 'demoVideo/stuttgart_00\\\\stuttgart_00_000000_000099.png', 'demoVideo/stuttgart_00\\\\stuttgart_00_000000_000100.png', 'demoVideo/stuttgart_00\\\\stuttgart_00_000000_000101.png', 'demoVideo/stuttgart_00\\\\stuttgart_00_000000_000102.png', 'demoVideo/stuttgart_00\\\\stuttgart_00_000000_000103.png', 'demoVideo/stuttgart_00\\\\stuttgart_00_000000_000104.png', 'demoVideo/stuttgart_00\\\\stuttgart_00_000000_000105.png', 'demoVideo/stuttgart_00\\\\stuttgart_00_000000_000106.png', 'demoVideo/stuttgart_00\\\\stuttgart_00_000000_000107.png', 'demoVideo/stuttgart_00\\\\stuttgart_00_000000_000108.png', 'demoVideo/stuttgart_00\\\\stuttgart_00_000000_000109.png', 'demoVideo/stuttgart_00\\\\stuttgart_00_000000_000110.png', 'demoVideo/stuttgart_00\\\\stuttgart_00_000000_000111.png', 'demoVideo/stuttgart_00\\\\stuttgart_00_000000_000112.png', 'demoVideo/stuttgart_00\\\\stuttgart_00_000000_000113.png', 'demoVideo/stuttgart_00\\\\stuttgart_00_000000_000114.png', 'demoVideo/stuttgart_00\\\\stuttgart_00_000000_000115.png', 'demoVideo/stuttgart_00\\\\stuttgart_00_000000_000116.png', 'demoVideo/stuttgart_00\\\\stuttgart_00_000000_000117.png', 'demoVideo/stuttgart_00\\\\stuttgart_00_000000_000118.png', 'demoVideo/stuttgart_00\\\\stuttgart_00_000000_000119.png', 'demoVideo/stuttgart_00\\\\stuttgart_00_000000_000120.png', 'demoVideo/stuttgart_00\\\\stuttgart_00_000000_000121.png', 'demoVideo/stuttgart_00\\\\stuttgart_00_000000_000122.png', 'demoVideo/stuttgart_00\\\\stuttgart_00_000000_000123.png', 'demoVideo/stuttgart_00\\\\stuttgart_00_000000_000124.png', 'demoVideo/stuttgart_00\\\\stuttgart_00_000000_000125.png', 'demoVideo/stuttgart_00\\\\stuttgart_00_000000_000126.png', 'demoVideo/stuttgart_00\\\\stuttgart_00_000000_000127.png', 'demoVideo/stuttgart_00\\\\stuttgart_00_000000_000128.png', 'demoVideo/stuttgart_00\\\\stuttgart_00_000000_000129.png', 'demoVideo/stuttgart_00\\\\stuttgart_00_000000_000130.png', 'demoVideo/stuttgart_00\\\\stuttgart_00_000000_000131.png', 'demoVideo/stuttgart_00\\\\stuttgart_00_000000_000132.png', 'demoVideo/stuttgart_00\\\\stuttgart_00_000000_000133.png', 'demoVideo/stuttgart_00\\\\stuttgart_00_000000_000134.png', 'demoVideo/stuttgart_00\\\\stuttgart_00_000000_000135.png', 'demoVideo/stuttgart_00\\\\stuttgart_00_000000_000136.png', 'demoVideo/stuttgart_00\\\\stuttgart_00_000000_000137.png', 'demoVideo/stuttgart_00\\\\stuttgart_00_000000_000138.png', 'demoVideo/stuttgart_00\\\\stuttgart_00_000000_000139.png', 'demoVideo/stuttgart_00\\\\stuttgart_00_000000_000140.png', 'demoVideo/stuttgart_00\\\\stuttgart_00_000000_000141.png', 'demoVideo/stuttgart_00\\\\stuttgart_00_000000_000142.png', 'demoVideo/stuttgart_00\\\\stuttgart_00_000000_000143.png', 'demoVideo/stuttgart_00\\\\stuttgart_00_000000_000144.png', 'demoVideo/stuttgart_00\\\\stuttgart_00_000000_000145.png', 'demoVideo/stuttgart_00\\\\stuttgart_00_000000_000146.png', 'demoVideo/stuttgart_00\\\\stuttgart_00_000000_000147.png', 'demoVideo/stuttgart_00\\\\stuttgart_00_000000_000148.png', 'demoVideo/stuttgart_00\\\\stuttgart_00_000000_000149.png', 'demoVideo/stuttgart_00\\\\stuttgart_00_000000_000150.png', 'demoVideo/stuttgart_00\\\\stuttgart_00_000000_000151.png', 'demoVideo/stuttgart_00\\\\stuttgart_00_000000_000152.png', 'demoVideo/stuttgart_00\\\\stuttgart_00_000000_000153.png', 'demoVideo/stuttgart_00\\\\stuttgart_00_000000_000154.png', 'demoVideo/stuttgart_00\\\\stuttgart_00_000000_000155.png', 'demoVideo/stuttgart_00\\\\stuttgart_00_000000_000156.png', 'demoVideo/stuttgart_00\\\\stuttgart_00_000000_000157.png', 'demoVideo/stuttgart_00\\\\stuttgart_00_000000_000158.png', 'demoVideo/stuttgart_00\\\\stuttgart_00_000000_000159.png', 'demoVideo/stuttgart_00\\\\stuttgart_00_000000_000160.png', 'demoVideo/stuttgart_00\\\\stuttgart_00_000000_000161.png', 'demoVideo/stuttgart_00\\\\stuttgart_00_000000_000162.png', 'demoVideo/stuttgart_00\\\\stuttgart_00_000000_000163.png', 'demoVideo/stuttgart_00\\\\stuttgart_00_000000_000164.png', 'demoVideo/stuttgart_00\\\\stuttgart_00_000000_000165.png', 'demoVideo/stuttgart_00\\\\stuttgart_00_000000_000166.png', 'demoVideo/stuttgart_00\\\\stuttgart_00_000000_000167.png', 'demoVideo/stuttgart_00\\\\stuttgart_00_000000_000168.png', 'demoVideo/stuttgart_00\\\\stuttgart_00_000000_000169.png', 'demoVideo/stuttgart_00\\\\stuttgart_00_000000_000170.png', 'demoVideo/stuttgart_00\\\\stuttgart_00_000000_000171.png', 'demoVideo/stuttgart_00\\\\stuttgart_00_000000_000172.png', 'demoVideo/stuttgart_00\\\\stuttgart_00_000000_000173.png', 'demoVideo/stuttgart_00\\\\stuttgart_00_000000_000174.png', 'demoVideo/stuttgart_00\\\\stuttgart_00_000000_000175.png', 'demoVideo/stuttgart_00\\\\stuttgart_00_000000_000176.png', 'demoVideo/stuttgart_00\\\\stuttgart_00_000000_000177.png', 'demoVideo/stuttgart_00\\\\stuttgart_00_000000_000178.png', 'demoVideo/stuttgart_00\\\\stuttgart_00_000000_000179.png', 'demoVideo/stuttgart_00\\\\stuttgart_00_000000_000180.png', 'demoVideo/stuttgart_00\\\\stuttgart_00_000000_000181.png', 'demoVideo/stuttgart_00\\\\stuttgart_00_000000_000182.png', 'demoVideo/stuttgart_00\\\\stuttgart_00_000000_000183.png', 'demoVideo/stuttgart_00\\\\stuttgart_00_000000_000184.png', 'demoVideo/stuttgart_00\\\\stuttgart_00_000000_000185.png', 'demoVideo/stuttgart_00\\\\stuttgart_00_000000_000186.png', 'demoVideo/stuttgart_00\\\\stuttgart_00_000000_000187.png', 'demoVideo/stuttgart_00\\\\stuttgart_00_000000_000188.png', 'demoVideo/stuttgart_00\\\\stuttgart_00_000000_000189.png', 'demoVideo/stuttgart_00\\\\stuttgart_00_000000_000190.png', 'demoVideo/stuttgart_00\\\\stuttgart_00_000000_000191.png', 'demoVideo/stuttgart_00\\\\stuttgart_00_000000_000192.png', 'demoVideo/stuttgart_00\\\\stuttgart_00_000000_000193.png', 'demoVideo/stuttgart_00\\\\stuttgart_00_000000_000194.png', 'demoVideo/stuttgart_00\\\\stuttgart_00_000000_000195.png', 'demoVideo/stuttgart_00\\\\stuttgart_00_000000_000196.png', 'demoVideo/stuttgart_00\\\\stuttgart_00_000000_000197.png', 'demoVideo/stuttgart_00\\\\stuttgart_00_000000_000198.png', 'demoVideo/stuttgart_00\\\\stuttgart_00_000000_000199.png', 'demoVideo/stuttgart_00\\\\stuttgart_00_000000_000200.png', 'demoVideo/stuttgart_00\\\\stuttgart_00_000000_000201.png', 'demoVideo/stuttgart_00\\\\stuttgart_00_000000_000202.png', 'demoVideo/stuttgart_00\\\\stuttgart_00_000000_000203.png', 'demoVideo/stuttgart_00\\\\stuttgart_00_000000_000204.png', 'demoVideo/stuttgart_00\\\\stuttgart_00_000000_000205.png', 'demoVideo/stuttgart_00\\\\stuttgart_00_000000_000206.png', 'demoVideo/stuttgart_00\\\\stuttgart_00_000000_000207.png', 'demoVideo/stuttgart_00\\\\stuttgart_00_000000_000208.png', 'demoVideo/stuttgart_00\\\\stuttgart_00_000000_000209.png', 'demoVideo/stuttgart_00\\\\stuttgart_00_000000_000210.png', 'demoVideo/stuttgart_00\\\\stuttgart_00_000000_000211.png', 'demoVideo/stuttgart_00\\\\stuttgart_00_000000_000212.png', 'demoVideo/stuttgart_00\\\\stuttgart_00_000000_000213.png', 'demoVideo/stuttgart_00\\\\stuttgart_00_000000_000214.png', 'demoVideo/stuttgart_00\\\\stuttgart_00_000000_000215.png', 'demoVideo/stuttgart_00\\\\stuttgart_00_000000_000216.png', 'demoVideo/stuttgart_00\\\\stuttgart_00_000000_000217.png', 'demoVideo/stuttgart_00\\\\stuttgart_00_000000_000218.png', 'demoVideo/stuttgart_00\\\\stuttgart_00_000000_000219.png', 'demoVideo/stuttgart_00\\\\stuttgart_00_000000_000220.png', 'demoVideo/stuttgart_00\\\\stuttgart_00_000000_000221.png', 'demoVideo/stuttgart_00\\\\stuttgart_00_000000_000222.png', 'demoVideo/stuttgart_00\\\\stuttgart_00_000000_000223.png', 'demoVideo/stuttgart_00\\\\stuttgart_00_000000_000224.png', 'demoVideo/stuttgart_00\\\\stuttgart_00_000000_000225.png', 'demoVideo/stuttgart_00\\\\stuttgart_00_000000_000226.png', 'demoVideo/stuttgart_00\\\\stuttgart_00_000000_000227.png', 'demoVideo/stuttgart_00\\\\stuttgart_00_000000_000228.png', 'demoVideo/stuttgart_00\\\\stuttgart_00_000000_000229.png', 'demoVideo/stuttgart_00\\\\stuttgart_00_000000_000230.png', 'demoVideo/stuttgart_00\\\\stuttgart_00_000000_000231.png', 'demoVideo/stuttgart_00\\\\stuttgart_00_000000_000232.png', 'demoVideo/stuttgart_00\\\\stuttgart_00_000000_000233.png', 'demoVideo/stuttgart_00\\\\stuttgart_00_000000_000234.png', 'demoVideo/stuttgart_00\\\\stuttgart_00_000000_000235.png', 'demoVideo/stuttgart_00\\\\stuttgart_00_000000_000236.png', 'demoVideo/stuttgart_00\\\\stuttgart_00_000000_000237.png', 'demoVideo/stuttgart_00\\\\stuttgart_00_000000_000238.png', 'demoVideo/stuttgart_00\\\\stuttgart_00_000000_000239.png', 'demoVideo/stuttgart_00\\\\stuttgart_00_000000_000240.png', 'demoVideo/stuttgart_00\\\\stuttgart_00_000000_000241.png', 'demoVideo/stuttgart_00\\\\stuttgart_00_000000_000242.png', 'demoVideo/stuttgart_00\\\\stuttgart_00_000000_000243.png', 'demoVideo/stuttgart_00\\\\stuttgart_00_000000_000244.png', 'demoVideo/stuttgart_00\\\\stuttgart_00_000000_000245.png', 'demoVideo/stuttgart_00\\\\stuttgart_00_000000_000246.png', 'demoVideo/stuttgart_00\\\\stuttgart_00_000000_000247.png', 'demoVideo/stuttgart_00\\\\stuttgart_00_000000_000248.png', 'demoVideo/stuttgart_00\\\\stuttgart_00_000000_000249.png', 'demoVideo/stuttgart_00\\\\stuttgart_00_000000_000250.png', 'demoVideo/stuttgart_00\\\\stuttgart_00_000000_000251.png', 'demoVideo/stuttgart_00\\\\stuttgart_00_000000_000252.png', 'demoVideo/stuttgart_00\\\\stuttgart_00_000000_000253.png', 'demoVideo/stuttgart_00\\\\stuttgart_00_000000_000254.png', 'demoVideo/stuttgart_00\\\\stuttgart_00_000000_000255.png', 'demoVideo/stuttgart_00\\\\stuttgart_00_000000_000256.png', 'demoVideo/stuttgart_00\\\\stuttgart_00_000000_000257.png', 'demoVideo/stuttgart_00\\\\stuttgart_00_000000_000258.png', 'demoVideo/stuttgart_00\\\\stuttgart_00_000000_000259.png', 'demoVideo/stuttgart_00\\\\stuttgart_00_000000_000260.png', 'demoVideo/stuttgart_00\\\\stuttgart_00_000000_000261.png', 'demoVideo/stuttgart_00\\\\stuttgart_00_000000_000262.png', 'demoVideo/stuttgart_00\\\\stuttgart_00_000000_000263.png', 'demoVideo/stuttgart_00\\\\stuttgart_00_000000_000264.png', 'demoVideo/stuttgart_00\\\\stuttgart_00_000000_000265.png', 'demoVideo/stuttgart_00\\\\stuttgart_00_000000_000266.png', 'demoVideo/stuttgart_00\\\\stuttgart_00_000000_000267.png', 'demoVideo/stuttgart_00\\\\stuttgart_00_000000_000268.png', 'demoVideo/stuttgart_00\\\\stuttgart_00_000000_000269.png', 'demoVideo/stuttgart_00\\\\stuttgart_00_000000_000270.png', 'demoVideo/stuttgart_00\\\\stuttgart_00_000000_000271.png', 'demoVideo/stuttgart_00\\\\stuttgart_00_000000_000272.png', 'demoVideo/stuttgart_00\\\\stuttgart_00_000000_000273.png', 'demoVideo/stuttgart_00\\\\stuttgart_00_000000_000274.png', 'demoVideo/stuttgart_00\\\\stuttgart_00_000000_000275.png', 'demoVideo/stuttgart_00\\\\stuttgart_00_000000_000276.png', 'demoVideo/stuttgart_00\\\\stuttgart_00_000000_000277.png', 'demoVideo/stuttgart_00\\\\stuttgart_00_000000_000278.png', 'demoVideo/stuttgart_00\\\\stuttgart_00_000000_000279.png', 'demoVideo/stuttgart_00\\\\stuttgart_00_000000_000280.png', 'demoVideo/stuttgart_00\\\\stuttgart_00_000000_000281.png', 'demoVideo/stuttgart_00\\\\stuttgart_00_000000_000282.png', 'demoVideo/stuttgart_00\\\\stuttgart_00_000000_000283.png', 'demoVideo/stuttgart_00\\\\stuttgart_00_000000_000284.png', 'demoVideo/stuttgart_00\\\\stuttgart_00_000000_000285.png', 'demoVideo/stuttgart_00\\\\stuttgart_00_000000_000286.png', 'demoVideo/stuttgart_00\\\\stuttgart_00_000000_000287.png', 'demoVideo/stuttgart_00\\\\stuttgart_00_000000_000288.png', 'demoVideo/stuttgart_00\\\\stuttgart_00_000000_000289.png', 'demoVideo/stuttgart_00\\\\stuttgart_00_000000_000290.png', 'demoVideo/stuttgart_00\\\\stuttgart_00_000000_000291.png', 'demoVideo/stuttgart_00\\\\stuttgart_00_000000_000292.png', 'demoVideo/stuttgart_00\\\\stuttgart_00_000000_000293.png', 'demoVideo/stuttgart_00\\\\stuttgart_00_000000_000294.png', 'demoVideo/stuttgart_00\\\\stuttgart_00_000000_000295.png', 'demoVideo/stuttgart_00\\\\stuttgart_00_000000_000296.png', 'demoVideo/stuttgart_00\\\\stuttgart_00_000000_000297.png', 'demoVideo/stuttgart_00\\\\stuttgart_00_000000_000298.png', 'demoVideo/stuttgart_00\\\\stuttgart_00_000000_000299.png', 'demoVideo/stuttgart_00\\\\stuttgart_00_000000_000300.png', 'demoVideo/stuttgart_00\\\\stuttgart_00_000000_000301.png', 'demoVideo/stuttgart_00\\\\stuttgart_00_000000_000302.png', 'demoVideo/stuttgart_00\\\\stuttgart_00_000000_000303.png', 'demoVideo/stuttgart_00\\\\stuttgart_00_000000_000304.png', 'demoVideo/stuttgart_00\\\\stuttgart_00_000000_000305.png', 'demoVideo/stuttgart_00\\\\stuttgart_00_000000_000306.png', 'demoVideo/stuttgart_00\\\\stuttgart_00_000000_000307.png', 'demoVideo/stuttgart_00\\\\stuttgart_00_000000_000308.png', 'demoVideo/stuttgart_00\\\\stuttgart_00_000000_000309.png', 'demoVideo/stuttgart_00\\\\stuttgart_00_000000_000310.png', 'demoVideo/stuttgart_00\\\\stuttgart_00_000000_000311.png', 'demoVideo/stuttgart_00\\\\stuttgart_00_000000_000312.png', 'demoVideo/stuttgart_00\\\\stuttgart_00_000000_000313.png', 'demoVideo/stuttgart_00\\\\stuttgart_00_000000_000314.png', 'demoVideo/stuttgart_00\\\\stuttgart_00_000000_000315.png', 'demoVideo/stuttgart_00\\\\stuttgart_00_000000_000316.png', 'demoVideo/stuttgart_00\\\\stuttgart_00_000000_000317.png', 'demoVideo/stuttgart_00\\\\stuttgart_00_000000_000318.png', 'demoVideo/stuttgart_00\\\\stuttgart_00_000000_000319.png', 'demoVideo/stuttgart_00\\\\stuttgart_00_000000_000320.png', 'demoVideo/stuttgart_00\\\\stuttgart_00_000000_000321.png', 'demoVideo/stuttgart_00\\\\stuttgart_00_000000_000322.png', 'demoVideo/stuttgart_00\\\\stuttgart_00_000000_000323.png', 'demoVideo/stuttgart_00\\\\stuttgart_00_000000_000324.png', 'demoVideo/stuttgart_00\\\\stuttgart_00_000000_000325.png', 'demoVideo/stuttgart_00\\\\stuttgart_00_000000_000326.png', 'demoVideo/stuttgart_00\\\\stuttgart_00_000000_000327.png', 'demoVideo/stuttgart_00\\\\stuttgart_00_000000_000328.png', 'demoVideo/stuttgart_00\\\\stuttgart_00_000000_000329.png', 'demoVideo/stuttgart_00\\\\stuttgart_00_000000_000330.png', 'demoVideo/stuttgart_00\\\\stuttgart_00_000000_000331.png', 'demoVideo/stuttgart_00\\\\stuttgart_00_000000_000332.png', 'demoVideo/stuttgart_00\\\\stuttgart_00_000000_000333.png', 'demoVideo/stuttgart_00\\\\stuttgart_00_000000_000334.png', 'demoVideo/stuttgart_00\\\\stuttgart_00_000000_000335.png', 'demoVideo/stuttgart_00\\\\stuttgart_00_000000_000336.png', 'demoVideo/stuttgart_00\\\\stuttgart_00_000000_000337.png', 'demoVideo/stuttgart_00\\\\stuttgart_00_000000_000338.png', 'demoVideo/stuttgart_00\\\\stuttgart_00_000000_000339.png', 'demoVideo/stuttgart_00\\\\stuttgart_00_000000_000340.png', 'demoVideo/stuttgart_00\\\\stuttgart_00_000000_000341.png', 'demoVideo/stuttgart_00\\\\stuttgart_00_000000_000342.png', 'demoVideo/stuttgart_00\\\\stuttgart_00_000000_000343.png', 'demoVideo/stuttgart_00\\\\stuttgart_00_000000_000344.png', 'demoVideo/stuttgart_00\\\\stuttgart_00_000000_000345.png', 'demoVideo/stuttgart_00\\\\stuttgart_00_000000_000346.png', 'demoVideo/stuttgart_00\\\\stuttgart_00_000000_000347.png', 'demoVideo/stuttgart_00\\\\stuttgart_00_000000_000348.png', 'demoVideo/stuttgart_00\\\\stuttgart_00_000000_000349.png', 'demoVideo/stuttgart_00\\\\stuttgart_00_000000_000350.png', 'demoVideo/stuttgart_00\\\\stuttgart_00_000000_000351.png', 'demoVideo/stuttgart_00\\\\stuttgart_00_000000_000352.png', 'demoVideo/stuttgart_00\\\\stuttgart_00_000000_000353.png', 'demoVideo/stuttgart_00\\\\stuttgart_00_000000_000354.png', 'demoVideo/stuttgart_00\\\\stuttgart_00_000000_000355.png', 'demoVideo/stuttgart_00\\\\stuttgart_00_000000_000356.png', 'demoVideo/stuttgart_00\\\\stuttgart_00_000000_000357.png', 'demoVideo/stuttgart_00\\\\stuttgart_00_000000_000358.png', 'demoVideo/stuttgart_00\\\\stuttgart_00_000000_000359.png', 'demoVideo/stuttgart_00\\\\stuttgart_00_000000_000360.png', 'demoVideo/stuttgart_00\\\\stuttgart_00_000000_000361.png', 'demoVideo/stuttgart_00\\\\stuttgart_00_000000_000362.png', 'demoVideo/stuttgart_00\\\\stuttgart_00_000000_000363.png', 'demoVideo/stuttgart_00\\\\stuttgart_00_000000_000364.png', 'demoVideo/stuttgart_00\\\\stuttgart_00_000000_000365.png', 'demoVideo/stuttgart_00\\\\stuttgart_00_000000_000366.png', 'demoVideo/stuttgart_00\\\\stuttgart_00_000000_000367.png', 'demoVideo/stuttgart_00\\\\stuttgart_00_000000_000368.png', 'demoVideo/stuttgart_00\\\\stuttgart_00_000000_000369.png', 'demoVideo/stuttgart_00\\\\stuttgart_00_000000_000370.png', 'demoVideo/stuttgart_00\\\\stuttgart_00_000000_000371.png', 'demoVideo/stuttgart_00\\\\stuttgart_00_000000_000372.png', 'demoVideo/stuttgart_00\\\\stuttgart_00_000000_000373.png', 'demoVideo/stuttgart_00\\\\stuttgart_00_000000_000374.png', 'demoVideo/stuttgart_00\\\\stuttgart_00_000000_000375.png', 'demoVideo/stuttgart_00\\\\stuttgart_00_000000_000376.png', 'demoVideo/stuttgart_00\\\\stuttgart_00_000000_000377.png', 'demoVideo/stuttgart_00\\\\stuttgart_00_000000_000378.png', 'demoVideo/stuttgart_00\\\\stuttgart_00_000000_000379.png', 'demoVideo/stuttgart_00\\\\stuttgart_00_000000_000380.png', 'demoVideo/stuttgart_00\\\\stuttgart_00_000000_000381.png', 'demoVideo/stuttgart_00\\\\stuttgart_00_000000_000382.png', 'demoVideo/stuttgart_00\\\\stuttgart_00_000000_000383.png', 'demoVideo/stuttgart_00\\\\stuttgart_00_000000_000384.png', 'demoVideo/stuttgart_00\\\\stuttgart_00_000000_000385.png', 'demoVideo/stuttgart_00\\\\stuttgart_00_000000_000386.png', 'demoVideo/stuttgart_00\\\\stuttgart_00_000000_000387.png', 'demoVideo/stuttgart_00\\\\stuttgart_00_000000_000388.png', 'demoVideo/stuttgart_00\\\\stuttgart_00_000000_000389.png', 'demoVideo/stuttgart_00\\\\stuttgart_00_000000_000390.png', 'demoVideo/stuttgart_00\\\\stuttgart_00_000000_000391.png', 'demoVideo/stuttgart_00\\\\stuttgart_00_000000_000392.png', 'demoVideo/stuttgart_00\\\\stuttgart_00_000000_000393.png', 'demoVideo/stuttgart_00\\\\stuttgart_00_000000_000394.png', 'demoVideo/stuttgart_00\\\\stuttgart_00_000000_000395.png', 'demoVideo/stuttgart_00\\\\stuttgart_00_000000_000396.png', 'demoVideo/stuttgart_00\\\\stuttgart_00_000000_000397.png', 'demoVideo/stuttgart_00\\\\stuttgart_00_000000_000398.png', 'demoVideo/stuttgart_00\\\\stuttgart_00_000000_000399.png', 'demoVideo/stuttgart_00\\\\stuttgart_00_000000_000400.png', 'demoVideo/stuttgart_00\\\\stuttgart_00_000000_000401.png', 'demoVideo/stuttgart_00\\\\stuttgart_00_000000_000402.png', 'demoVideo/stuttgart_00\\\\stuttgart_00_000000_000403.png', 'demoVideo/stuttgart_00\\\\stuttgart_00_000000_000404.png', 'demoVideo/stuttgart_00\\\\stuttgart_00_000000_000405.png', 'demoVideo/stuttgart_00\\\\stuttgart_00_000000_000406.png', 'demoVideo/stuttgart_00\\\\stuttgart_00_000000_000407.png', 'demoVideo/stuttgart_00\\\\stuttgart_00_000000_000408.png', 'demoVideo/stuttgart_00\\\\stuttgart_00_000000_000409.png', 'demoVideo/stuttgart_00\\\\stuttgart_00_000000_000410.png', 'demoVideo/stuttgart_00\\\\stuttgart_00_000000_000411.png', 'demoVideo/stuttgart_00\\\\stuttgart_00_000000_000412.png', 'demoVideo/stuttgart_00\\\\stuttgart_00_000000_000413.png', 'demoVideo/stuttgart_00\\\\stuttgart_00_000000_000414.png', 'demoVideo/stuttgart_00\\\\stuttgart_00_000000_000415.png', 'demoVideo/stuttgart_00\\\\stuttgart_00_000000_000416.png', 'demoVideo/stuttgart_00\\\\stuttgart_00_000000_000417.png', 'demoVideo/stuttgart_00\\\\stuttgart_00_000000_000418.png', 'demoVideo/stuttgart_00\\\\stuttgart_00_000000_000419.png', 'demoVideo/stuttgart_00\\\\stuttgart_00_000000_000420.png', 'demoVideo/stuttgart_00\\\\stuttgart_00_000000_000421.png', 'demoVideo/stuttgart_00\\\\stuttgart_00_000000_000422.png', 'demoVideo/stuttgart_00\\\\stuttgart_00_000000_000423.png', 'demoVideo/stuttgart_00\\\\stuttgart_00_000000_000424.png', 'demoVideo/stuttgart_00\\\\stuttgart_00_000000_000425.png', 'demoVideo/stuttgart_00\\\\stuttgart_00_000000_000426.png', 'demoVideo/stuttgart_00\\\\stuttgart_00_000000_000427.png', 'demoVideo/stuttgart_00\\\\stuttgart_00_000000_000428.png', 'demoVideo/stuttgart_00\\\\stuttgart_00_000000_000429.png', 'demoVideo/stuttgart_00\\\\stuttgart_00_000000_000430.png', 'demoVideo/stuttgart_00\\\\stuttgart_00_000000_000431.png', 'demoVideo/stuttgart_00\\\\stuttgart_00_000000_000432.png', 'demoVideo/stuttgart_00\\\\stuttgart_00_000000_000433.png', 'demoVideo/stuttgart_00\\\\stuttgart_00_000000_000434.png', 'demoVideo/stuttgart_00\\\\stuttgart_00_000000_000435.png', 'demoVideo/stuttgart_00\\\\stuttgart_00_000000_000436.png', 'demoVideo/stuttgart_00\\\\stuttgart_00_000000_000437.png', 'demoVideo/stuttgart_00\\\\stuttgart_00_000000_000438.png', 'demoVideo/stuttgart_00\\\\stuttgart_00_000000_000439.png', 'demoVideo/stuttgart_00\\\\stuttgart_00_000000_000440.png', 'demoVideo/stuttgart_00\\\\stuttgart_00_000000_000441.png', 'demoVideo/stuttgart_00\\\\stuttgart_00_000000_000442.png', 'demoVideo/stuttgart_00\\\\stuttgart_00_000000_000443.png', 'demoVideo/stuttgart_00\\\\stuttgart_00_000000_000444.png', 'demoVideo/stuttgart_00\\\\stuttgart_00_000000_000445.png', 'demoVideo/stuttgart_00\\\\stuttgart_00_000000_000446.png', 'demoVideo/stuttgart_00\\\\stuttgart_00_000000_000447.png', 'demoVideo/stuttgart_00\\\\stuttgart_00_000000_000448.png', 'demoVideo/stuttgart_00\\\\stuttgart_00_000000_000449.png', 'demoVideo/stuttgart_00\\\\stuttgart_00_000000_000450.png', 'demoVideo/stuttgart_00\\\\stuttgart_00_000000_000451.png', 'demoVideo/stuttgart_00\\\\stuttgart_00_000000_000452.png', 'demoVideo/stuttgart_00\\\\stuttgart_00_000000_000453.png', 'demoVideo/stuttgart_00\\\\stuttgart_00_000000_000454.png', 'demoVideo/stuttgart_00\\\\stuttgart_00_000000_000455.png', 'demoVideo/stuttgart_00\\\\stuttgart_00_000000_000456.png', 'demoVideo/stuttgart_00\\\\stuttgart_00_000000_000457.png', 'demoVideo/stuttgart_00\\\\stuttgart_00_000000_000458.png', 'demoVideo/stuttgart_00\\\\stuttgart_00_000000_000459.png', 'demoVideo/stuttgart_00\\\\stuttgart_00_000000_000460.png', 'demoVideo/stuttgart_00\\\\stuttgart_00_000000_000461.png', 'demoVideo/stuttgart_00\\\\stuttgart_00_000000_000462.png', 'demoVideo/stuttgart_00\\\\stuttgart_00_000000_000463.png', 'demoVideo/stuttgart_00\\\\stuttgart_00_000000_000464.png', 'demoVideo/stuttgart_00\\\\stuttgart_00_000000_000465.png', 'demoVideo/stuttgart_00\\\\stuttgart_00_000000_000466.png', 'demoVideo/stuttgart_00\\\\stuttgart_00_000000_000467.png', 'demoVideo/stuttgart_00\\\\stuttgart_00_000000_000468.png', 'demoVideo/stuttgart_00\\\\stuttgart_00_000000_000469.png', 'demoVideo/stuttgart_00\\\\stuttgart_00_000000_000470.png', 'demoVideo/stuttgart_00\\\\stuttgart_00_000000_000471.png', 'demoVideo/stuttgart_00\\\\stuttgart_00_000000_000472.png', 'demoVideo/stuttgart_00\\\\stuttgart_00_000000_000473.png', 'demoVideo/stuttgart_00\\\\stuttgart_00_000000_000474.png', 'demoVideo/stuttgart_00\\\\stuttgart_00_000000_000475.png', 'demoVideo/stuttgart_00\\\\stuttgart_00_000000_000476.png', 'demoVideo/stuttgart_00\\\\stuttgart_00_000000_000477.png', 'demoVideo/stuttgart_00\\\\stuttgart_00_000000_000478.png', 'demoVideo/stuttgart_00\\\\stuttgart_00_000000_000479.png', 'demoVideo/stuttgart_00\\\\stuttgart_00_000000_000480.png', 'demoVideo/stuttgart_00\\\\stuttgart_00_000000_000481.png', 'demoVideo/stuttgart_00\\\\stuttgart_00_000000_000482.png', 'demoVideo/stuttgart_00\\\\stuttgart_00_000000_000483.png', 'demoVideo/stuttgart_00\\\\stuttgart_00_000000_000484.png', 'demoVideo/stuttgart_00\\\\stuttgart_00_000000_000485.png', 'demoVideo/stuttgart_00\\\\stuttgart_00_000000_000486.png', 'demoVideo/stuttgart_00\\\\stuttgart_00_000000_000487.png', 'demoVideo/stuttgart_00\\\\stuttgart_00_000000_000488.png', 'demoVideo/stuttgart_00\\\\stuttgart_00_000000_000489.png', 'demoVideo/stuttgart_00\\\\stuttgart_00_000000_000490.png', 'demoVideo/stuttgart_00\\\\stuttgart_00_000000_000491.png', 'demoVideo/stuttgart_00\\\\stuttgart_00_000000_000492.png', 'demoVideo/stuttgart_00\\\\stuttgart_00_000000_000493.png', 'demoVideo/stuttgart_00\\\\stuttgart_00_000000_000494.png', 'demoVideo/stuttgart_00\\\\stuttgart_00_000000_000495.png', 'demoVideo/stuttgart_00\\\\stuttgart_00_000000_000496.png', 'demoVideo/stuttgart_00\\\\stuttgart_00_000000_000497.png', 'demoVideo/stuttgart_00\\\\stuttgart_00_000000_000498.png', 'demoVideo/stuttgart_00\\\\stuttgart_00_000000_000499.png', 'demoVideo/stuttgart_00\\\\stuttgart_00_000000_000500.png', 'demoVideo/stuttgart_00\\\\stuttgart_00_000000_000501.png', 'demoVideo/stuttgart_00\\\\stuttgart_00_000000_000502.png', 'demoVideo/stuttgart_00\\\\stuttgart_00_000000_000503.png', 'demoVideo/stuttgart_00\\\\stuttgart_00_000000_000504.png', 'demoVideo/stuttgart_00\\\\stuttgart_00_000000_000505.png', 'demoVideo/stuttgart_00\\\\stuttgart_00_000000_000506.png', 'demoVideo/stuttgart_00\\\\stuttgart_00_000000_000507.png', 'demoVideo/stuttgart_00\\\\stuttgart_00_000000_000508.png', 'demoVideo/stuttgart_00\\\\stuttgart_00_000000_000509.png', 'demoVideo/stuttgart_00\\\\stuttgart_00_000000_000510.png', 'demoVideo/stuttgart_00\\\\stuttgart_00_000000_000511.png', 'demoVideo/stuttgart_00\\\\stuttgart_00_000000_000512.png', 'demoVideo/stuttgart_00\\\\stuttgart_00_000000_000513.png', 'demoVideo/stuttgart_00\\\\stuttgart_00_000000_000514.png', 'demoVideo/stuttgart_00\\\\stuttgart_00_000000_000515.png', 'demoVideo/stuttgart_00\\\\stuttgart_00_000000_000516.png', 'demoVideo/stuttgart_00\\\\stuttgart_00_000000_000517.png', 'demoVideo/stuttgart_00\\\\stuttgart_00_000000_000518.png', 'demoVideo/stuttgart_00\\\\stuttgart_00_000000_000519.png', 'demoVideo/stuttgart_00\\\\stuttgart_00_000000_000520.png', 'demoVideo/stuttgart_00\\\\stuttgart_00_000000_000521.png', 'demoVideo/stuttgart_00\\\\stuttgart_00_000000_000522.png', 'demoVideo/stuttgart_00\\\\stuttgart_00_000000_000523.png', 'demoVideo/stuttgart_00\\\\stuttgart_00_000000_000524.png', 'demoVideo/stuttgart_00\\\\stuttgart_00_000000_000525.png', 'demoVideo/stuttgart_00\\\\stuttgart_00_000000_000526.png', 'demoVideo/stuttgart_00\\\\stuttgart_00_000000_000527.png', 'demoVideo/stuttgart_00\\\\stuttgart_00_000000_000528.png', 'demoVideo/stuttgart_00\\\\stuttgart_00_000000_000529.png', 'demoVideo/stuttgart_00\\\\stuttgart_00_000000_000530.png', 'demoVideo/stuttgart_00\\\\stuttgart_00_000000_000531.png', 'demoVideo/stuttgart_00\\\\stuttgart_00_000000_000532.png', 'demoVideo/stuttgart_00\\\\stuttgart_00_000000_000533.png', 'demoVideo/stuttgart_00\\\\stuttgart_00_000000_000534.png', 'demoVideo/stuttgart_00\\\\stuttgart_00_000000_000535.png', 'demoVideo/stuttgart_00\\\\stuttgart_00_000000_000536.png', 'demoVideo/stuttgart_00\\\\stuttgart_00_000000_000537.png', 'demoVideo/stuttgart_00\\\\stuttgart_00_000000_000538.png', 'demoVideo/stuttgart_00\\\\stuttgart_00_000000_000539.png', 'demoVideo/stuttgart_00\\\\stuttgart_00_000000_000540.png', 'demoVideo/stuttgart_00\\\\stuttgart_00_000000_000541.png', 'demoVideo/stuttgart_00\\\\stuttgart_00_000000_000542.png', 'demoVideo/stuttgart_00\\\\stuttgart_00_000000_000543.png', 'demoVideo/stuttgart_00\\\\stuttgart_00_000000_000544.png', 'demoVideo/stuttgart_00\\\\stuttgart_00_000000_000545.png', 'demoVideo/stuttgart_00\\\\stuttgart_00_000000_000546.png', 'demoVideo/stuttgart_00\\\\stuttgart_00_000000_000547.png', 'demoVideo/stuttgart_00\\\\stuttgart_00_000000_000548.png', 'demoVideo/stuttgart_00\\\\stuttgart_00_000000_000549.png', 'demoVideo/stuttgart_00\\\\stuttgart_00_000000_000550.png', 'demoVideo/stuttgart_00\\\\stuttgart_00_000000_000551.png', 'demoVideo/stuttgart_00\\\\stuttgart_00_000000_000552.png', 'demoVideo/stuttgart_00\\\\stuttgart_00_000000_000553.png', 'demoVideo/stuttgart_00\\\\stuttgart_00_000000_000554.png', 'demoVideo/stuttgart_00\\\\stuttgart_00_000000_000555.png', 'demoVideo/stuttgart_00\\\\stuttgart_00_000000_000556.png', 'demoVideo/stuttgart_00\\\\stuttgart_00_000000_000557.png', 'demoVideo/stuttgart_00\\\\stuttgart_00_000000_000558.png', 'demoVideo/stuttgart_00\\\\stuttgart_00_000000_000559.png', 'demoVideo/stuttgart_00\\\\stuttgart_00_000000_000560.png', 'demoVideo/stuttgart_00\\\\stuttgart_00_000000_000561.png', 'demoVideo/stuttgart_00\\\\stuttgart_00_000000_000562.png', 'demoVideo/stuttgart_00\\\\stuttgart_00_000000_000563.png', 'demoVideo/stuttgart_00\\\\stuttgart_00_000000_000564.png', 'demoVideo/stuttgart_00\\\\stuttgart_00_000000_000565.png', 'demoVideo/stuttgart_00\\\\stuttgart_00_000000_000566.png', 'demoVideo/stuttgart_00\\\\stuttgart_00_000000_000567.png', 'demoVideo/stuttgart_00\\\\stuttgart_00_000000_000568.png', 'demoVideo/stuttgart_00\\\\stuttgart_00_000000_000569.png', 'demoVideo/stuttgart_00\\\\stuttgart_00_000000_000570.png', 'demoVideo/stuttgart_00\\\\stuttgart_00_000000_000571.png', 'demoVideo/stuttgart_00\\\\stuttgart_00_000000_000572.png', 'demoVideo/stuttgart_00\\\\stuttgart_00_000000_000573.png', 'demoVideo/stuttgart_00\\\\stuttgart_00_000000_000574.png', 'demoVideo/stuttgart_00\\\\stuttgart_00_000000_000575.png', 'demoVideo/stuttgart_00\\\\stuttgart_00_000000_000576.png', 'demoVideo/stuttgart_00\\\\stuttgart_00_000000_000577.png', 'demoVideo/stuttgart_00\\\\stuttgart_00_000000_000578.png', 'demoVideo/stuttgart_00\\\\stuttgart_00_000000_000579.png', 'demoVideo/stuttgart_00\\\\stuttgart_00_000000_000580.png', 'demoVideo/stuttgart_00\\\\stuttgart_00_000000_000581.png', 'demoVideo/stuttgart_00\\\\stuttgart_00_000000_000582.png', 'demoVideo/stuttgart_00\\\\stuttgart_00_000000_000583.png', 'demoVideo/stuttgart_00\\\\stuttgart_00_000000_000584.png', 'demoVideo/stuttgart_00\\\\stuttgart_00_000000_000585.png', 'demoVideo/stuttgart_00\\\\stuttgart_00_000000_000586.png', 'demoVideo/stuttgart_00\\\\stuttgart_00_000000_000587.png', 'demoVideo/stuttgart_00\\\\stuttgart_00_000000_000588.png', 'demoVideo/stuttgart_00\\\\stuttgart_00_000000_000589.png', 'demoVideo/stuttgart_00\\\\stuttgart_00_000000_000590.png', 'demoVideo/stuttgart_00\\\\stuttgart_00_000000_000591.png', 'demoVideo/stuttgart_00\\\\stuttgart_00_000000_000592.png', 'demoVideo/stuttgart_00\\\\stuttgart_00_000000_000593.png', 'demoVideo/stuttgart_00\\\\stuttgart_00_000000_000594.png', 'demoVideo/stuttgart_00\\\\stuttgart_00_000000_000595.png', 'demoVideo/stuttgart_00\\\\stuttgart_00_000000_000596.png', 'demoVideo/stuttgart_00\\\\stuttgart_00_000000_000597.png', 'demoVideo/stuttgart_00\\\\stuttgart_00_000000_000598.png', 'demoVideo/stuttgart_00\\\\stuttgart_00_000000_000599.png']\n"
     ]
    }
   ],
   "source": [
    "input_dir = 'demoVideo/stuttgart_00'\n",
    "image_list = sorted(os.listdir(input_dir))\n",
    "images_path = [os.path.join(input_dir, x) for x in image_list]\n",
    "print(images_path)"
   ],
   "metadata": {
    "collapsed": false
   }
  },
  {
   "cell_type": "code",
   "execution_count": 16,
   "outputs": [],
   "source": [
    "font = {'family' : 'normal', 'weight' : 'bold', 'size'   : 4}\n",
    "plt.rc('font', **font)\n",
    "plt.rcParams['text.color'] = 'white'"
   ],
   "metadata": {
    "collapsed": false
   }
  },
  {
   "cell_type": "code",
   "execution_count": 17,
   "outputs": [
    {
     "name": "stderr",
     "output_type": "stream",
     "text": [
      "findfont: Font family ['normal'] not found. Falling back to DejaVu Sans.\n",
      "  0%|          | 0/599 [00:00<?, ?it/s]findfont: Font family ['normal'] not found. Falling back to DejaVu Sans.\n",
      "100%|██████████| 599/599 [15:09<00:00,  1.52s/it]\n"
     ]
    }
   ],
   "source": [
    "%matplotlib agg\n",
    "fig, axes = plt.subplots(3,3, figsize=(15.5,8))\n",
    "axes = axes.flatten()\n",
    "fig.tight_layout()\n",
    "\n",
    "for image_path in tqdm(images_path):\n",
    "    image_name = image_path.split(os.sep)[-1].split('.')[0]\n",
    "\n",
    "    rgb_img, attentions = get_attention_masks(image_path, model, transform, patch_size, mode = 'bilinear')\n",
    "\n",
    "    for i in range(len(axes)):\n",
    "        axes[i].clear()\n",
    "        if i < 4:\n",
    "            axes[i].imshow(rgb_img)\n",
    "            axes[i].imshow(attentions[i], cmap='twilight', alpha=0.5)\n",
    "            axes[i].set_title(titles[i+8], x= 0.20, y=0.9, va=\"top\")\n",
    "\n",
    "        elif i==4:\n",
    "            axes[i].imshow(np.zeros_like(rgb_img))\n",
    "        else:\n",
    "            axes[i].imshow(rgb_img)\n",
    "            axes[i].imshow(attentions[i-1], cmap='twilight', alpha=0.5)\n",
    "            axes[i].set_title(titles[i-1+8], x= 0.20, y=0.9, va=\"top\")\n",
    "\n",
    "        axes[i].axis('off')\n",
    "\n",
    "###########################################\n",
    "\n",
    "    fig.subplots_adjust(wspace=0, hspace=0)\n",
    "    fig.savefig(f'{image_name}_last_stage.png')"
   ],
   "metadata": {
    "collapsed": false
   }
  },
  {
   "cell_type": "code",
   "execution_count": 18,
   "outputs": [],
   "source": [
    "def convert_images_to_video(images_dir, output_video_path, fps : int = 20):\n",
    "\n",
    "    input_images = [os.path.join(images_dir, *[x]) for x in sorted(os.listdir(images_dir)) if x.endswith('png')]\n",
    "\n",
    "    if len(input_images) > 0:\n",
    "        sample_image = cv2.imread(input_images[0])\n",
    "        height, width, _ = sample_image.shape\n",
    "\n",
    "        # handles for input output videos\n",
    "        output_handle = cv2.VideoWriter(output_video_path, cv2.VideoWriter_fourcc(*'DIVX'), fps, (width, height))\n",
    "\n",
    "        # create progress bar\n",
    "        num_frames = int(len(input_images))\n",
    "        pbar = tqdm(total = num_frames, position=0, leave=True)\n",
    "\n",
    "        for i in tqdm(range(num_frames), position=0, leave=True):\n",
    "            frame = cv2.imread(input_images[i])\n",
    "            output_handle.write(frame)\n",
    "            pbar.update(1)\n",
    "\n",
    "        # release the output video handler\n",
    "        output_handle.release()\n",
    "\n",
    "    else:\n",
    "        pass"
   ],
   "metadata": {
    "collapsed": false
   }
  },
  {
   "cell_type": "code",
   "execution_count": 19,
   "outputs": [],
   "source": [
    "def createDir(dirPath):\n",
    "    if not os.path.isdir(dirPath):\n",
    "        os.mkdir(dirPath)"
   ],
   "metadata": {
    "collapsed": false
   }
  },
  {
   "cell_type": "code",
   "execution_count": 20,
   "outputs": [
    {
     "name": "stdout",
     "output_type": "stream",
     "text": [
      ".\\attention_videos\\segformer_mit_b3_cs_pretrain_19CLS_512_1024_CE_loss_last_stage_demoVideo.mp4\n"
     ]
    }
   ],
   "source": [
    "video_output_dir = os.path.join(output_dir, *['attention_videos'])\n",
    "createDir(video_output_dir)\n",
    "output_video_path = os.path.join(video_output_dir, *[f\"{MODEL_NAME}_last_stage_demoVideo.mp4\"])\n",
    "print(output_video_path)"
   ],
   "metadata": {
    "collapsed": false
   }
  },
  {
   "cell_type": "code",
   "execution_count": 27,
   "outputs": [
    {
     "name": "stderr",
     "output_type": "stream",
     "text": [
      "100%|██████████| 599/599 [00:20<00:00, 29.38it/s]\n",
      "100%|██████████| 599/599 [00:20<00:00, 29.38it/s]\n"
     ]
    }
   ],
   "source": [
    "attention_dir = \"attention_img\"\n",
    "\n",
    "convert_images_to_video(attention_dir, output_video_path)"
   ],
   "metadata": {
    "collapsed": false
   }
  },
  {
   "cell_type": "code",
   "execution_count": null,
   "outputs": [],
   "source": [],
   "metadata": {
    "collapsed": false
   }
  }
 ],
 "metadata": {
  "kernelspec": {
   "display_name": "Python 3",
   "language": "python",
   "name": "python3"
  },
  "language_info": {
   "codemirror_mode": {
    "name": "ipython",
    "version": 2
   },
   "file_extension": ".py",
   "mimetype": "text/x-python",
   "name": "python",
   "nbconvert_exporter": "python",
   "pygments_lexer": "ipython2",
   "version": "2.7.6"
  }
 },
 "nbformat": 4,
 "nbformat_minor": 0
}
